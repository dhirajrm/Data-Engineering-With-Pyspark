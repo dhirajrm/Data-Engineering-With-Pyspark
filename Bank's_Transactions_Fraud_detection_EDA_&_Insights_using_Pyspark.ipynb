{
  "nbformat": 4,
  "nbformat_minor": 0,
  "metadata": {
    "colab": {
      "provenance": [],
      "authorship_tag": "ABX9TyPmOtRbTvGgrccV7axzpDi/",
      "include_colab_link": true
    },
    "kernelspec": {
      "name": "python3",
      "display_name": "Python 3"
    },
    "language_info": {
      "name": "python"
    }
  },
  "cells": [
    {
      "cell_type": "markdown",
      "metadata": {
        "id": "view-in-github",
        "colab_type": "text"
      },
      "source": [
        "<a href=\"https://colab.research.google.com/github/dhirajrm/Data-Engineering-With-Pyspark/blob/git/Bank's_Transactions_Fraud_detection_EDA_%26_Insights_using_Pyspark.ipynb\" target=\"_parent\"><img src=\"https://colab.research.google.com/assets/colab-badge.svg\" alt=\"Open In Colab\"/></a>"
      ]
    },
    {
      "cell_type": "code",
      "execution_count": null,
      "metadata": {
        "id": "VXc796O8xrX5"
      },
      "outputs": [],
      "source": []
    },
    {
      "cell_type": "code",
      "source": [
        "from pyspark.sql import SparkSession\n",
        "\n",
        "spark = SparkSession.builder.appName('bank_fraud_detection').getOrCreate()"
      ],
      "metadata": {
        "id": "1Fy1krLqF-4T"
      },
      "execution_count": null,
      "outputs": []
    },
    {
      "cell_type": "code",
      "source": [
        "from pyspark.sql.types import StructType, StructField, StringType, IntegerType, FloatType, TimestampType\n",
        "\n",
        "schema = StructType([StructField('TransactionID', StringType(), True),\n",
        "                     StructField('AccountID', StringType(), True),\n",
        "                     StructField('TransactionAmount', FloatType(), True),\n",
        "                     StructField('TransactionDate', TimestampType(), True),\n",
        "                     StructField('IP Address', StringType(), True),\n",
        "                     StructField('MerchantID', StringType(), True),\n",
        "                     StructField('Channel', StringType(), True),\n",
        "                     StructField('CustomerAge', StringType(), True),\n",
        "                     StructField('CustomerOccupation', StringType(), True),\n",
        "                     StructField('TransactionDuration', IntegerType(), True),\n",
        "                     StructField('LoginAttempts', IntegerType(), True),\n",
        "                     StructField('AccountBalance', FloatType(), True),\n",
        "                     StructField('PreviousTransactionDate', IntegerType(), True)])"
      ],
      "metadata": {
        "id": "H7QGY2v3LK9S"
      },
      "execution_count": null,
      "outputs": []
    },
    {
      "cell_type": "code",
      "source": [
        "bank_trans = spark.read.csv('/content/bank_transactions_data_2.csv',header = True,schema = schema)"
      ],
      "metadata": {
        "id": "L13__KiJGRat"
      },
      "execution_count": null,
      "outputs": []
    },
    {
      "cell_type": "code",
      "source": [
        "bank_trans.show()"
      ],
      "metadata": {
        "colab": {
          "base_uri": "https://localhost:8080/"
        },
        "id": "olR4CjaxGoF4",
        "outputId": "3b371c5b-1693-430b-ea93-551945f522ea"
      },
      "execution_count": null,
      "outputs": [
        {
          "output_type": "stream",
          "name": "stdout",
          "text": [
            "+-------------+---------+-----------------+-------------------+----------+-------------+-------+---------------+------------------+-------------------+-------------+--------------+-----------------------+\n",
            "|TransactionID|AccountID|TransactionAmount|    TransactionDate|IP Address|   MerchantID|Channel|    CustomerAge|CustomerOccupation|TransactionDuration|LoginAttempts|AccountBalance|PreviousTransactionDate|\n",
            "+-------------+---------+-----------------+-------------------+----------+-------------+-------+---------------+------------------+-------------------+-------------+--------------+-----------------------+\n",
            "|     TX000001|  AC00128|            14.09|2023-04-11 16:29:14|     Debit|    San Diego|D000380| 162.198.218.92|              M015|               NULL|           70|          NULL|                     81|\n",
            "|     TX000002|  AC00455|           376.24|2023-06-27 16:44:19|     Debit|      Houston|D000051|    13.149.61.4|              M052|               NULL|           68|          NULL|                    141|\n",
            "|     TX000003|  AC00019|           126.29|2023-07-10 18:16:08|     Debit|         Mesa|D000235| 215.97.143.157|              M009|               NULL|           19|          NULL|                     56|\n",
            "|     TX000004|  AC00070|            184.5|2023-05-05 16:32:11|     Debit|      Raleigh|D000187| 200.13.225.150|              M002|               NULL|           26|          NULL|                     25|\n",
            "|     TX000005|  AC00411|            13.45|2023-10-16 17:51:24|    Credit|      Atlanta|D000308|   65.164.3.100|              M091|               NULL|           26|          NULL|                    198|\n",
            "|     TX000006|  AC00393|            92.15|2023-04-03 17:15:01|     Debit|Oklahoma City|D000579| 117.67.192.211|              M054|               NULL|           18|          NULL|                    172|\n",
            "|     TX000007|  AC00199|             7.08|2023-02-15 16:36:48|    Credit|      Seattle|D000241|140.212.253.222|              M019|               NULL|           37|          NULL|                    139|\n",
            "|     TX000008|  AC00069|           171.42|2023-05-08 17:47:59|    Credit| Indianapolis|D000500|  92.214.76.157|              M020|               NULL|           67|          NULL|                    291|\n",
            "|     TX000009|  AC00135|           106.23|2023-03-21 16:59:46|    Credit|      Detroit|D000690|  24.148.92.177|              M035|               NULL|           51|          NULL|                     86|\n",
            "|     TX000010|  AC00385|           815.96|2023-03-31 16:06:57|     Debit|    Nashville|D000199|   32.169.88.41|              M007|               NULL|           55|          NULL|                    120|\n",
            "|     TX000011|  AC00150|            17.78|2023-03-14 16:46:10|    Credit|  Albuquerque|D000205|   213.15.9.253|              M073|               NULL|           52|          NULL|                     59|\n",
            "|     TX000012|  AC00459|           190.02|2023-02-06 17:30:00|     Debit|      Memphis|D000589| 116.175.11.222|              M030|               NULL|           21|          NULL|                    173|\n",
            "|     TX000013|  AC00392|           494.52|2023-06-07 17:21:28|    Credit|         Mesa|D000032| 210.98.198.143|              M057|               NULL|           24|          NULL|                    111|\n",
            "|     TX000014|  AC00264|           781.76|2023-11-20 16:39:15|     Debit|      Memphis|D000054|   193.83.0.183|              M025|               NULL|           26|          NULL|                    123|\n",
            "|     TX000015|  AC00085|           166.99|2023-02-13 16:53:57|     Debit|   Louisville|D000309| 188.124.181.12|              M017|               NULL|           18|          NULL|                    134|\n",
            "|     TX000016|  AC00270|           465.45|2023-12-12 16:23:31|     Debit|       Denver|D000466| 221.169.49.152|              M025|               NULL|           36|          NULL|                    129|\n",
            "|     TX000017|  AC00317|            555.8|2023-10-30 16:52:49|    Credit|       Austin|D000671| 53.218.177.171|              M048|               NULL|           19|          NULL|                    158|\n",
            "|     TX000018|  AC00359|           492.93|2023-12-14 18:32:14|     Debit|     Columbus|D000432| 114.223.129.47|              M059|               NULL|           39|          NULL|                    234|\n",
            "|     TX000019|  AC00242|            18.68|2023-02-21 16:56:50|    Credit|  Albuquerque|D000530| 93.218.115.132|              M054|               NULL|           59|          NULL|                    106|\n",
            "|     TX000020|  AC00285|            71.48|2023-06-08 18:18:50|    Credit|     Columbus|D000039|  120.170.93.69|              M039|               NULL|           18|          NULL|                    169|\n",
            "+-------------+---------+-----------------+-------------------+----------+-------------+-------+---------------+------------------+-------------------+-------------+--------------+-----------------------+\n",
            "only showing top 20 rows\n",
            "\n"
          ]
        }
      ]
    },
    {
      "cell_type": "code",
      "source": [
        "bank_trans.printSchema()"
      ],
      "metadata": {
        "id": "dpsaICbGGwcM",
        "colab": {
          "base_uri": "https://localhost:8080/"
        },
        "outputId": "aad5db7f-3ac1-41fe-f720-5b6101639197"
      },
      "execution_count": null,
      "outputs": [
        {
          "output_type": "stream",
          "name": "stdout",
          "text": [
            "root\n",
            " |-- TransactionID: string (nullable = true)\n",
            " |-- AccountID: string (nullable = true)\n",
            " |-- TransactionAmount: float (nullable = true)\n",
            " |-- TransactionDate: timestamp (nullable = true)\n",
            " |-- IP Address: string (nullable = true)\n",
            " |-- MerchantID: string (nullable = true)\n",
            " |-- Channel: string (nullable = true)\n",
            " |-- CustomerAge: string (nullable = true)\n",
            " |-- CustomerOccupation: string (nullable = true)\n",
            " |-- TransactionDuration: integer (nullable = true)\n",
            " |-- LoginAttempts: integer (nullable = true)\n",
            " |-- AccountBalance: float (nullable = true)\n",
            " |-- PreviousTransactionDate: integer (nullable = true)\n",
            "\n"
          ]
        }
      ]
    },
    {
      "cell_type": "code",
      "source": [
        "bank_trans.describe().show()"
      ],
      "metadata": {
        "colab": {
          "base_uri": "https://localhost:8080/"
        },
        "id": "b4OWpm0LHEYX",
        "outputId": "d6d59aa2-3161-4caa-d71a-59ec0c832189"
      },
      "execution_count": null,
      "outputs": [
        {
          "output_type": "stream",
          "name": "stdout",
          "text": [
            "+-------+-------------+---------+------------------+----------+-----------+-------+--------------+------------------+-------------------+------------------+--------------+-----------------------+\n",
            "|summary|TransactionID|AccountID| TransactionAmount|IP Address| MerchantID|Channel|   CustomerAge|CustomerOccupation|TransactionDuration|     LoginAttempts|AccountBalance|PreviousTransactionDate|\n",
            "+-------+-------------+---------+------------------+----------+-----------+-------+--------------+------------------+-------------------+------------------+--------------+-----------------------+\n",
            "|  count|         2512|     2512|              2512|      2512|       2512|   2512|          2512|              2512|                  0|              2512|             0|                   2512|\n",
            "|   mean|         NULL|     NULL| 297.5937778157461|      NULL|       NULL|   NULL|          NULL|              NULL|               NULL|44.673964968152866|          NULL|     119.64331210191082|\n",
            "| stddev|         NULL|     NULL|291.94624328010104|      NULL|       NULL|   NULL|          NULL|              NULL|               NULL| 17.79219819836649|          NULL|       69.9637569246539|\n",
            "|    min|     TX000001|  AC00001|              0.26|    Credit|Albuquerque|D000001|  1.198.76.182|              M001|               NULL|                18|          NULL|                     10|\n",
            "|    max|     TX002512|  AC00500|           1919.11|     Debit| Washington|D000700|99.205.173.118|              M100|               NULL|                80|          NULL|                    300|\n",
            "+-------+-------------+---------+------------------+----------+-----------+-------+--------------+------------------+-------------------+------------------+--------------+-----------------------+\n",
            "\n"
          ]
        }
      ]
    },
    {
      "cell_type": "code",
      "source": [
        "bank_trans = bank_trans.dropna(how = 'all')"
      ],
      "metadata": {
        "id": "oQVpfb2kMz2e"
      },
      "execution_count": null,
      "outputs": []
    },
    {
      "source": [
        "bank_trans.describe().show()"
      ],
      "cell_type": "code",
      "metadata": {
        "colab": {
          "base_uri": "https://localhost:8080/"
        },
        "id": "UTzN8sthK4ry",
        "outputId": "5d84c78c-ba6f-4c70-fc68-becf671c003d"
      },
      "execution_count": null,
      "outputs": [
        {
          "output_type": "stream",
          "name": "stdout",
          "text": [
            "+-------+-------------+---------+------------------+----------+-----------+-------+--------------+------------------+-------------------+------------------+--------------+-----------------------+\n",
            "|summary|TransactionID|AccountID| TransactionAmount|IP Address| MerchantID|Channel|   CustomerAge|CustomerOccupation|TransactionDuration|     LoginAttempts|AccountBalance|PreviousTransactionDate|\n",
            "+-------+-------------+---------+------------------+----------+-----------+-------+--------------+------------------+-------------------+------------------+--------------+-----------------------+\n",
            "|  count|         2512|     2512|              2512|      2512|       2512|   2512|          2512|              2512|                  0|              2512|             0|                   2512|\n",
            "|   mean|         NULL|     NULL| 297.5937778157461|      NULL|       NULL|   NULL|          NULL|              NULL|               NULL|44.673964968152866|          NULL|     119.64331210191082|\n",
            "| stddev|         NULL|     NULL|291.94624328010104|      NULL|       NULL|   NULL|          NULL|              NULL|               NULL| 17.79219819836649|          NULL|       69.9637569246539|\n",
            "|    min|     TX000001|  AC00001|              0.26|    Credit|Albuquerque|D000001|  1.198.76.182|              M001|               NULL|                18|          NULL|                     10|\n",
            "|    max|     TX002512|  AC00500|           1919.11|     Debit| Washington|D000700|99.205.173.118|              M100|               NULL|                80|          NULL|                    300|\n",
            "+-------+-------------+---------+------------------+----------+-----------+-------+--------------+------------------+-------------------+------------------+--------------+-----------------------+\n",
            "\n"
          ]
        }
      ]
    },
    {
      "cell_type": "code",
      "source": [
        "bank_trans.distinct().count()"
      ],
      "metadata": {
        "colab": {
          "base_uri": "https://localhost:8080/"
        },
        "id": "5XNcNqwWKdzN",
        "outputId": "29d265b5-907c-4cfa-f093-34d03acb4c71"
      },
      "execution_count": null,
      "outputs": [
        {
          "output_type": "execute_result",
          "data": {
            "text/plain": [
              "2512"
            ]
          },
          "metadata": {},
          "execution_count": 38
        }
      ]
    },
    {
      "cell_type": "code",
      "source": [],
      "metadata": {
        "id": "jmiap8skMHLR"
      },
      "execution_count": null,
      "outputs": []
    },
    {
      "cell_type": "code",
      "source": [
        "# 1. Identify column types:\n",
        "#    - Manually inspect the schema (bank_trans.printSchema()) and data (bank_trans.show()) to categorize columns.\n",
        "bank_trans.printSchema()"
      ],
      "metadata": {
        "colab": {
          "base_uri": "https://localhost:8080/"
        },
        "id": "1fXdNkSFMVc_",
        "outputId": "3030d064-a505-4b44-84f0-ca25bf1e0416"
      },
      "execution_count": null,
      "outputs": [
        {
          "output_type": "stream",
          "name": "stdout",
          "text": [
            "root\n",
            " |-- TransactionID: string (nullable = true)\n",
            " |-- AccountID: string (nullable = true)\n",
            " |-- TransactionAmount: float (nullable = true)\n",
            " |-- TransactionDate: timestamp (nullable = true)\n",
            " |-- IP Address: string (nullable = true)\n",
            " |-- MerchantID: string (nullable = true)\n",
            " |-- Channel: string (nullable = true)\n",
            " |-- CustomerAge: string (nullable = true)\n",
            " |-- CustomerOccupation: string (nullable = true)\n",
            " |-- TransactionDuration: integer (nullable = true)\n",
            " |-- LoginAttempts: integer (nullable = true)\n",
            " |-- AccountBalance: float (nullable = true)\n",
            " |-- PreviousTransactionDate: integer (nullable = true)\n",
            "\n"
          ]
        }
      ]
    },
    {
      "cell_type": "markdown",
      "source": [],
      "metadata": {
        "id": "rv9B3u4eP8AN"
      }
    },
    {
      "cell_type": "code",
      "source": [
        "# 2. Create separate lists or dictionaries for each category:\n",
        "Categorical_col = ['Channel','CustomerOccupation']\n",
        "ID_col = ['TransactionID','AccountID','MerchantID']\n",
        "Amoubt_col = ['TransactionAmount','AccountBalance']\n",
        "Duration_col = ['TransactionDuration','LoginAttempts']\n",
        "DateTime_col = ['TransactionDate']"
      ],
      "metadata": {
        "id": "vRbNdp3HOyuE"
      },
      "execution_count": null,
      "outputs": []
    },
    {
      "cell_type": "code",
      "source": [
        "\n",
        "from pyspark.sql import SparkSession\n",
        "from pyspark.sql.types import StructType, StructField, StringType, IntegerType, FloatType, TimestampType\n",
        "from pyspark.sql.functions import when, mean, lit, col\n",
        "\n",
        "spark = SparkSession.builder.appName('bank_fraud_detection').getOrCreate()\n",
        "\n",
        "\n",
        "# Categorize columns (replace with your actual column lists):\n",
        "categorical_cols = ['Channel', 'CustomerOccupation', 'IP Address']  # Added 'IP Address'\n",
        "id_cols = ['TransactionID', 'AccountID', 'MerchantID']\n",
        "numerical_cols = ['TransactionAmount', 'AccountBalance', 'TransactionDuration', 'LoginAttempts']\n",
        "datetime_cols = ['TransactionDate', 'PreviousTransactionDate']\n",
        "\n",
        "\n",
        "# Handle missing values (example – customize as needed)\n",
        "for col_name in categorical_cols:\n",
        "    # Impute missing categorical values with 'Unknown'\n",
        "    bank_trans = bank_trans.withColumn(col_name, when(col(col_name).isNull(), 'Unknown').otherwise(col(col_name)))\n",
        "\n",
        "for col_name in numerical_cols:\n",
        "    # Calculate the mean for each numerical column\n",
        "    avg_value = bank_trans.select(mean(col_name)).collect()[0][0]\n",
        "\n",
        "    # Impute missing numerical values with the column's mean\n",
        "    bank_trans = bank_trans.withColumn(col_name, when(col(col_name).isNull(), avg_value).otherwise(col(col_name)))\n",
        "\n",
        "# Note:  'PreviousTransactionDate' is of IntegerType, so a mean will be computed as an integer\n",
        "\n",
        "for col_name in datetime_cols:\n",
        "\n",
        "    default_timestamp = '1900-01-01 00:00:00'  # replace with appropriate date\n",
        "    bank_trans = bank_trans.withColumn(col_name, when(col(col_name).isNull(), default_timestamp).otherwise(col(col_name)))\n",
        "\n",
        "\n",
        "# Verify the imputation\n",
        "bank_trans.describe().show()\n",
        "bank_trans.printSchema()"
      ],
      "metadata": {
        "id": "5R5Ob-M_PVS8",
        "colab": {
          "base_uri": "https://localhost:8080/"
        },
        "outputId": "06fad900-8d49-44c0-bb6a-eeb8c44181cb"
      },
      "execution_count": null,
      "outputs": [
        {
          "output_type": "stream",
          "name": "stdout",
          "text": [
            "+-------+-------------+---------+-------------------+-------------------+----------+-----------+-------+--------------+------------------+-------------------+------------------+--------------+-----------------------+\n",
            "|summary|TransactionID|AccountID|  TransactionAmount|    TransactionDate|IP Address| MerchantID|Channel|   CustomerAge|CustomerOccupation|TransactionDuration|     LoginAttempts|AccountBalance|PreviousTransactionDate|\n",
            "+-------+-------------+---------+-------------------+-------------------+----------+-----------+-------+--------------+------------------+-------------------+------------------+--------------+-----------------------+\n",
            "|  count|         2512|     2512|               2512|               2512|      2512|       2512|   2512|          2512|              2512|                  0|              2512|             0|                   2512|\n",
            "|   mean|         NULL|     NULL|  297.5937778157461|               NULL|      NULL|       NULL|   NULL|          NULL|              NULL|               NULL|44.673964968152866|          NULL|     119.64331210191082|\n",
            "| stddev|         NULL|     NULL| 291.94624328010104|               NULL|      NULL|       NULL|   NULL|          NULL|              NULL|               NULL| 17.79219819836649|          NULL|       69.9637569246539|\n",
            "|    min|     TX000001|  AC00001|0.25999999046325684|2023-01-02 16:00:06|    Credit|Albuquerque|D000001|  1.198.76.182|              M001|               NULL|              18.0|          NULL|                     10|\n",
            "|    max|     TX002512|  AC00500| 1919.1099853515625|2024-01-01 18:21:50|     Debit| Washington|D000700|99.205.173.118|              M100|               NULL|              80.0|          NULL|                     99|\n",
            "+-------+-------------+---------+-------------------+-------------------+----------+-----------+-------+--------------+------------------+-------------------+------------------+--------------+-----------------------+\n",
            "\n",
            "root\n",
            " |-- TransactionID: string (nullable = true)\n",
            " |-- AccountID: string (nullable = true)\n",
            " |-- TransactionAmount: double (nullable = true)\n",
            " |-- TransactionDate: string (nullable = true)\n",
            " |-- IP Address: string (nullable = true)\n",
            " |-- MerchantID: string (nullable = true)\n",
            " |-- Channel: string (nullable = true)\n",
            " |-- CustomerAge: string (nullable = true)\n",
            " |-- CustomerOccupation: string (nullable = true)\n",
            " |-- TransactionDuration: integer (nullable = true)\n",
            " |-- LoginAttempts: double (nullable = true)\n",
            " |-- AccountBalance: float (nullable = true)\n",
            " |-- PreviousTransactionDate: string (nullable = true)\n",
            "\n"
          ]
        }
      ]
    },
    {
      "cell_type": "code",
      "source": [],
      "metadata": {
        "id": "ZXge5rz_RZaQ"
      },
      "execution_count": null,
      "outputs": []
    }
  ]
}